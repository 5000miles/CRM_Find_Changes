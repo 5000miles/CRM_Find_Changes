{
 "cells": [
  {
   "cell_type": "code",
   "execution_count": 1,
   "metadata": {},
   "outputs": [],
   "source": [
    "import pandas as pd"
   ]
  },
  {
   "cell_type": "code",
   "execution_count": 2,
   "metadata": {},
   "outputs": [],
   "source": [
    "# final file name\n",
    "file_name = '11-30 to 12-6 drop.xlsx'"
   ]
  },
  {
   "cell_type": "code",
   "execution_count": 3,
   "metadata": {},
   "outputs": [],
   "source": [
    "col_names = ['Agent','Manager','TL','Building','Apt','BB','Deal Date','Lease Start Date','Rent','Comm']\n",
    "\n",
    "# read old table\n",
    "old_table = pd.read_excel('11-30 to 12-6 old.xlsx',parse_dates= True,header = None, names = col_names)\n",
    "old_table['Apt'] = old_table['Apt'].astype(str).str.upper()\n",
    "\n",
    "# read new table \n",
    "new_table = pd.read_excel('11-30 to 12-6 new.xlsx',parse_dates= True).drop('Unnamed: 0',axis = 1)\n",
    "new_table['Apt'] = new_table['Apt'].astype(str).str.upper()"
   ]
  },
  {
   "cell_type": "code",
   "execution_count": 4,
   "metadata": {},
   "outputs": [],
   "source": [
    "# create a new column for both tables, this column works as a unique id for same units\n",
    "\n",
    "new_table['Building + Apt'] = new_table['Building']+' '+new_table['Apt'].astype(str)\n",
    "old_table['Building + Apt'] = old_table['Building']+' '+old_table['Apt'].astype(str)\n",
    "\n",
    "# merge old table and new table\n",
    "old_new = pd.merge(old_table,new_table,on = 'Building + Apt', how = 'outer')"
   ]
  },
  {
   "cell_type": "code",
   "execution_count": 5,
   "metadata": {},
   "outputs": [],
   "source": [
    "def diff_agent(old,new):\n",
    "    '''Find the changes of agents\n",
    "    \n",
    "    As mentioned in CRM_Clean_Reports, same deal(units) may be done by different agents, and the agent may drop\n",
    "    the deal and new agent take the spot, this function is to find the changes of agents\n",
    "    \n",
    "    Args:\n",
    "        old: agent names of old table\n",
    "        new: agent names of new table\n",
    "    \n",
    "    Returns:\n",
    "        result: changes seperated by '/'\n",
    "        \n",
    "        '''\n",
    "    names = []\n",
    "    new_names = new.split('/')\n",
    "    old_names = old.split('/')\n",
    "    for i in old_names:\n",
    "        if i not in new_names:\n",
    "            names.append(i)\n",
    "    result = '/'.join(names)\n",
    "    return result\n"
   ]
  },
  {
   "cell_type": "code",
   "execution_count": 6,
   "metadata": {},
   "outputs": [],
   "source": [
    "# There will be 3 kinds of conditions will be consider as changes:\n",
    "# 1) All new deals, because agents input data into CRM late. (old NAN)\n",
    "# 2) Deals disappeared, because agents deleted deals. (new NAN)\n",
    "# 3) Modified deals info, comm changed or agent changed\n",
    "for i,k in old_new.iterrows():\n",
    "    if pd.isna(k['Agent']):\n",
    "        old_new.loc[i,'Agent-Diff'] = k['Agent_Combined']\n",
    "        old_new.loc[i,'Comm-Diff'] = k['Comm_y']\n",
    "    elif pd.isna(k['Agent_Combined']):\n",
    "        old_new.loc[i,'Agent-Diff'] = k['Agent']\n",
    "        old_new.loc[i,'Comm-Diff'] = -k['Comm_x']\n",
    "    else:\n",
    "        diff_comm = k['Comm_y'] - k['Comm_x']\n",
    "        if not(-3 <= diff_comm <= 3):\n",
    "            old_new.loc[i,'Agent-Diff'] = diff_agent(old_new.loc[i,'Agent'],old_new.loc[i,'Agent_Combined'])\n",
    "            old_new.loc[i,'Comm-Diff'] =diff_comm\n",
    "\n",
    "old_new[['Agent-Diff','Comm-Diff']] = old_new[['Agent-Diff','Comm-Diff']].fillna('')"
   ]
  },
  {
   "cell_type": "code",
   "execution_count": 7,
   "metadata": {},
   "outputs": [],
   "source": [
    "# map the changes into old table\n",
    "for q,p in old_new.iterrows():\n",
    "    if not pd.isna(p['Agent']):\n",
    "        old_table.loc[old_table[old_table['Building + Apt'] == p['Building + Apt']].index, 'agent_diff'] = p['Agent-Diff']\n",
    "        old_table.loc[old_table[old_table['Building + Apt'] == p['Building + Apt']].index, 'comm_diff']  = p['Comm-Diff']"
   ]
  },
  {
   "cell_type": "code",
   "execution_count": 8,
   "metadata": {},
   "outputs": [],
   "source": [
    "# drop the 'unique id' column\n",
    "old_table = old_table.drop('Building + Apt' , axis = 1)"
   ]
  },
  {
   "cell_type": "code",
   "execution_count": 9,
   "metadata": {},
   "outputs": [],
   "source": [
    "# find out the deals that agents input into CRM late\n",
    "deals_added = old_new[pd.isna(old_new['Agent'])][['Agent_Combined', 'Manager_Combined', 'TL_Combined', 'Building_y',\n",
    "       'Apt_y', 'BalAndBoth', 'DealDate', 'LeaseStartDate', 'Rent_y', 'Comm_y']]\n",
    "        "
   ]
  },
  {
   "cell_type": "code",
   "execution_count": 10,
   "metadata": {},
   "outputs": [],
   "source": [
    "writer = pd.ExcelWriter(file_name, datetime_format='MM-DD-YYYY')\n",
    "\n",
    "old_table.to_excel(writer, sheet_name = 'Main')\n",
    "\n",
    "deals_added.to_excel(writer, sheet_name = 'added')\n",
    "\n",
    "writer.close()"
   ]
  }
 ],
 "metadata": {
  "kernelspec": {
   "display_name": "Python 3",
   "language": "python",
   "name": "python3"
  },
  "language_info": {
   "codemirror_mode": {
    "name": "ipython",
    "version": 3
   },
   "file_extension": ".py",
   "mimetype": "text/x-python",
   "name": "python",
   "nbconvert_exporter": "python",
   "pygments_lexer": "ipython3",
   "version": "3.7.4"
  }
 },
 "nbformat": 4,
 "nbformat_minor": 2
}
